{
 "cells": [
  {
   "attachments": {},
   "cell_type": "markdown",
   "metadata": {},
   "source": [
    "TD GIT\n"
   ]
  },
  {
   "cell_type": "code",
   "execution_count": 2,
   "metadata": {},
   "outputs": [],
   "source": [
    "# Importation des librairies\n",
    "import numpy as np\n",
    "import pandas as pd\n",
    "import matplotlib.pyplot as plt\n",
    "import csv\n",
    "import seaborn as sns\n"
   ]
  },
  {
   "cell_type": "code",
   "execution_count": 3,
   "metadata": {},
   "outputs": [],
   "source": [
    "# Importation des données\n",
    "f = open(r\"D:\\MesDocs\\DUDataAnalyst\\Projets\\TD_Git\\iris.data\") \n",
    "df = pd.read_csv(f, sep = ',')\n",
    "f.close()\n"
   ]
  },
  {
   "cell_type": "code",
   "execution_count": 4,
   "metadata": {},
   "outputs": [],
   "source": [
    "# Définir les nouveaux titres de colonnes\n",
    "nvx_titres_col = [\"sepal_length\",\"sepal_width\",\"petal_length\",\"petal_width\",\"class\"]\n",
    "\n",
    "# Assigner les nouveaux titres de colonnes au DataFrame\n",
    "df.columns = nvx_titres_col\n"
   ]
  },
  {
   "cell_type": "code",
   "execution_count": 5,
   "metadata": {},
   "outputs": [
    {
     "name": "stdout",
     "output_type": "stream",
     "text": [
      "   sepal_length  sepal_width  petal_length  petal_width        class\n",
      "0           4.9          3.0           1.4          0.2  Iris-setosa\n",
      "1           4.7          3.2           1.3          0.2  Iris-setosa\n",
      "2           4.6          3.1           1.5          0.2  Iris-setosa\n",
      "3           5.0          3.6           1.4          0.2  Iris-setosa\n",
      "4           5.4          3.9           1.7          0.4  Iris-setosa\n"
     ]
    }
   ],
   "source": [
    "# Statistiques de base\n",
    "print(df.head(5))\n"
   ]
  },
  {
   "cell_type": "code",
   "execution_count": 6,
   "metadata": {},
   "outputs": [
    {
     "name": "stdout",
     "output_type": "stream",
     "text": [
      "<bound method NDFrame.describe of      sepal_length  sepal_width  petal_length  petal_width           class\n",
      "0             4.9          3.0           1.4          0.2     Iris-setosa\n",
      "1             4.7          3.2           1.3          0.2     Iris-setosa\n",
      "2             4.6          3.1           1.5          0.2     Iris-setosa\n",
      "3             5.0          3.6           1.4          0.2     Iris-setosa\n",
      "4             5.4          3.9           1.7          0.4     Iris-setosa\n",
      "..            ...          ...           ...          ...             ...\n",
      "144           6.7          3.0           5.2          2.3  Iris-virginica\n",
      "145           6.3          2.5           5.0          1.9  Iris-virginica\n",
      "146           6.5          3.0           5.2          2.0  Iris-virginica\n",
      "147           6.2          3.4           5.4          2.3  Iris-virginica\n",
      "148           5.9          3.0           5.1          1.8  Iris-virginica\n",
      "\n",
      "[149 rows x 5 columns]>\n"
     ]
    }
   ],
   "source": [
    "print(df.describe)"
   ]
  },
  {
   "cell_type": "code",
   "execution_count": 7,
   "metadata": {},
   "outputs": [
    {
     "name": "stdout",
     "output_type": "stream",
     "text": [
      "             class  nb_sepal_length  nb_sepal_width  nb_petal_length  \\\n",
      "0      Iris-setosa               49              49               49   \n",
      "1  Iris-versicolor               50              50               50   \n",
      "2   Iris-virginica               50              50               50   \n",
      "\n",
      "   nb_petal_with  \n",
      "0             49  \n",
      "1             50  \n",
      "2             50  \n"
     ]
    }
   ],
   "source": [
    "# Utilisation du groupby\n",
    "df_grp = df.groupby([\"class\"]).agg(nb_sepal_length = (\"sepal_length\", \"count\"), nb_sepal_width = (\"sepal_width\", \"count\"), nb_petal_length = (\"petal_length\", \"count\"),nb_petal_with = (\"petal_width\", \"count\")).reset_index()\n",
    "print(df_grp)"
   ]
  },
  {
   "attachments": {},
   "cell_type": "markdown",
   "metadata": {},
   "source": [
<<<<<<< HEAD
    "# PARTIE FEATURE 1"
=======
    "PARTIE FEATURE 2\n"
>>>>>>> feature2
   ]
  },
  {
   "cell_type": "code",
<<<<<<< HEAD
   "execution_count": 9,
=======
   "execution_count": 8,
>>>>>>> feature2
   "metadata": {},
   "outputs": [
    {
     "name": "stdout",
     "output_type": "stream",
     "text": [
<<<<<<< HEAD
      "    sepal_length  sepal_width  petal_length  petal_width        class\n",
      "0            4.9          3.0           1.4          0.2  Iris-setosa\n",
      "1            4.7          3.2           1.3          0.2  Iris-setosa\n",
      "2            4.6          3.1           1.5          0.2  Iris-setosa\n",
      "3            5.0          3.6           1.4          0.2  Iris-setosa\n",
      "4            5.4          3.9           1.7          0.4  Iris-setosa\n",
      "5            4.6          3.4           1.4          0.3  Iris-setosa\n",
      "6            5.0          3.4           1.5          0.2  Iris-setosa\n",
      "7            4.4          2.9           1.4          0.2  Iris-setosa\n",
      "8            4.9          3.1           1.5          0.1  Iris-setosa\n",
      "9            5.4          3.7           1.5          0.2  Iris-setosa\n",
      "10           4.8          3.4           1.6          0.2  Iris-setosa\n",
      "11           4.8          3.0           1.4          0.1  Iris-setosa\n",
      "12           4.3          3.0           1.1          0.1  Iris-setosa\n",
      "13           5.8          4.0           1.2          0.2  Iris-setosa\n",
      "14           5.7          4.4           1.5          0.4  Iris-setosa\n",
      "15           5.4          3.9           1.3          0.4  Iris-setosa\n",
      "16           5.1          3.5           1.4          0.3  Iris-setosa\n",
      "17           5.7          3.8           1.7          0.3  Iris-setosa\n",
      "18           5.1          3.8           1.5          0.3  Iris-setosa\n",
      "19           5.4          3.4           1.7          0.2  Iris-setosa\n",
      "20           5.1          3.7           1.5          0.4  Iris-setosa\n",
      "21           4.6          3.6           1.0          0.2  Iris-setosa\n",
      "22           5.1          3.3           1.7          0.5  Iris-setosa\n",
      "23           4.8          3.4           1.9          0.2  Iris-setosa\n",
      "24           5.0          3.0           1.6          0.2  Iris-setosa\n",
      "25           5.0          3.4           1.6          0.4  Iris-setosa\n",
      "26           5.2          3.5           1.5          0.2  Iris-setosa\n",
      "27           5.2          3.4           1.4          0.2  Iris-setosa\n",
      "28           4.7          3.2           1.6          0.2  Iris-setosa\n",
      "29           4.8          3.1           1.6          0.2  Iris-setosa\n",
      "30           5.4          3.4           1.5          0.4  Iris-setosa\n",
      "31           5.2          4.1           1.5          0.1  Iris-setosa\n",
      "32           5.5          4.2           1.4          0.2  Iris-setosa\n",
      "33           4.9          3.1           1.5          0.1  Iris-setosa\n",
      "34           5.0          3.2           1.2          0.2  Iris-setosa\n",
      "35           5.5          3.5           1.3          0.2  Iris-setosa\n",
      "36           4.9          3.1           1.5          0.1  Iris-setosa\n",
      "37           4.4          3.0           1.3          0.2  Iris-setosa\n",
      "38           5.1          3.4           1.5          0.2  Iris-setosa\n",
      "39           5.0          3.5           1.3          0.3  Iris-setosa\n",
      "40           4.5          2.3           1.3          0.3  Iris-setosa\n",
      "41           4.4          3.2           1.3          0.2  Iris-setosa\n",
      "42           5.0          3.5           1.6          0.6  Iris-setosa\n",
      "43           5.1          3.8           1.9          0.4  Iris-setosa\n",
      "44           4.8          3.0           1.4          0.3  Iris-setosa\n",
      "45           5.1          3.8           1.6          0.2  Iris-setosa\n",
      "46           4.6          3.2           1.4          0.2  Iris-setosa\n",
      "47           5.3          3.7           1.5          0.2  Iris-setosa\n",
      "48           5.0          3.3           1.4          0.2  Iris-setosa\n"
=======
      "             class  nb_sepal_length  nb_sepal_width  nb_petal_length  \\\n",
      "0      Iris-setosa         5.004082        3.416327         1.465306   \n",
      "1  Iris-versicolor         5.936000        2.770000         4.260000   \n",
      "2   Iris-virginica         6.588000        2.974000         5.552000   \n",
      "\n",
      "   nb_petal_with  \n",
      "0       0.244898  \n",
      "1       1.326000  \n",
      "2       2.026000  \n"
>>>>>>> feature2
     ]
    }
   ],
   "source": [
<<<<<<< HEAD
    "# Filtrer sur la variable \"class\" pour les valeurs \"Iris-setosa\"\n",
    "df_filtre = df.loc[df[\"class\"] == \"Iris-setosa\"]\n",
    "\n",
    "# Afficher le DataFrame filtré\n",
    "print(df_filtre)"
=======
    "# Utilisation du groupby\n",
    "df_moy = df.groupby([\"class\"]).agg(nb_sepal_length = (\"sepal_length\", \"mean\"), nb_sepal_width = (\"sepal_width\", \"mean\"), nb_petal_length = (\"petal_length\", \"mean\"),nb_petal_with = (\"petal_width\", \"mean\")).reset_index()\n",
    "print(df_moy)"
   ]
  },
  {
   "cell_type": "code",
   "execution_count": 15,
   "metadata": {},
   "outputs": [
    {
     "data": {
      "image/png": "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",
      "text/plain": [
       "<Figure size 640x480 with 1 Axes>"
      ]
     },
     "metadata": {},
     "output_type": "display_data"
    }
   ],
   "source": [
    "# Graphique demandé\n",
    "# Créer un bar chart avec les données du DataFrame\n",
    "sns.barplot(x=\"class\", y=\"nb_petal_length\", data=df_moy)\n",
    "\n",
    "# Ajouter des labels aux axes\n",
    "plt.xlabel(\"Class\")\n",
    "plt.ylabel(\"Petal Length\")\n",
    "plt.title(\"Longueur des pétales selon le type de fleurs\", color=\"blue\")\n",
    "\n",
    "# Afficher le graphique\n",
    "plt.show()\n",
    "\n",
    "\n",
    "plt.clf()\n",
    "plt.close()"
>>>>>>> feature2
   ]
  }
 ],
 "metadata": {
  "kernelspec": {
   "display_name": "base",
   "language": "python",
   "name": "python3"
  },
  "language_info": {
   "codemirror_mode": {
    "name": "ipython",
    "version": 3
   },
   "file_extension": ".py",
   "mimetype": "text/x-python",
   "name": "python",
   "nbconvert_exporter": "python",
   "pygments_lexer": "ipython3",
   "version": "3.9.13"
  },
  "orig_nbformat": 4
 },
 "nbformat": 4,
 "nbformat_minor": 2
}
