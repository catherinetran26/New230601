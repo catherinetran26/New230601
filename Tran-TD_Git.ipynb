{
 "cells": [
  {
   "attachments": {},
   "cell_type": "markdown",
   "metadata": {},
   "source": [
    "TD GIT\n"
   ]
  },
  {
   "cell_type": "code",
   "execution_count": 2,
   "metadata": {},
   "outputs": [],
   "source": [
    "# Importation des librairies\n",
    "import numpy as np\n",
    "import pandas as pd\n",
    "import matplotlib.pyplot as plt\n",
    "import csv\n",
    "import seaborn as sns\n"
   ]
  },
  {
   "cell_type": "code",
   "execution_count": 3,
   "metadata": {},
   "outputs": [],
   "source": [
    "# Importation des données\n",
    "f = open(r\"D:\\MesDocs\\DUDataAnalyst\\Projets\\TD_Git\\iris.data\") \n",
    "df = pd.read_csv(f, sep = ',')\n",
    "f.close()\n"
   ]
  },
  {
   "cell_type": "code",
   "execution_count": 4,
   "metadata": {},
   "outputs": [],
   "source": [
    "# Définir les nouveaux titres de colonnes\n",
    "nvx_titres_col = [\"sepal_length\",\"sepal_width\",\"petal_length\",\"petal_width\",\"class\"]\n",
    "\n",
    "# Assigner les nouveaux titres de colonnes au DataFrame\n",
    "df.columns = nvx_titres_col\n"
   ]
  },
  {
   "cell_type": "code",
   "execution_count": 5,
   "metadata": {},
   "outputs": [
    {
     "name": "stdout",
     "output_type": "stream",
     "text": [
      "   sepal_length  sepal_width  petal_length  petal_width        class\n",
      "0           4.9          3.0           1.4          0.2  Iris-setosa\n",
      "1           4.7          3.2           1.3          0.2  Iris-setosa\n",
      "2           4.6          3.1           1.5          0.2  Iris-setosa\n",
      "3           5.0          3.6           1.4          0.2  Iris-setosa\n",
      "4           5.4          3.9           1.7          0.4  Iris-setosa\n"
     ]
    }
   ],
   "source": [
    "# Statistiques de base\n",
    "print(df.head(5))\n"
   ]
  },
  {
   "cell_type": "code",
   "execution_count": 6,
   "metadata": {},
   "outputs": [
    {
     "name": "stdout",
     "output_type": "stream",
     "text": [
      "<bound method NDFrame.describe of      sepal_length  sepal_width  petal_length  petal_width           class\n",
      "0             4.9          3.0           1.4          0.2     Iris-setosa\n",
      "1             4.7          3.2           1.3          0.2     Iris-setosa\n",
      "2             4.6          3.1           1.5          0.2     Iris-setosa\n",
      "3             5.0          3.6           1.4          0.2     Iris-setosa\n",
      "4             5.4          3.9           1.7          0.4     Iris-setosa\n",
      "..            ...          ...           ...          ...             ...\n",
      "144           6.7          3.0           5.2          2.3  Iris-virginica\n",
      "145           6.3          2.5           5.0          1.9  Iris-virginica\n",
      "146           6.5          3.0           5.2          2.0  Iris-virginica\n",
      "147           6.2          3.4           5.4          2.3  Iris-virginica\n",
      "148           5.9          3.0           5.1          1.8  Iris-virginica\n",
      "\n",
      "[149 rows x 5 columns]>\n"
     ]
    }
   ],
   "source": [
    "print(df.describe)"
   ]
  },
  {
   "cell_type": "code",
   "execution_count": 7,
   "metadata": {},
   "outputs": [
    {
     "name": "stdout",
     "output_type": "stream",
     "text": [
      "             class  nb_sepal_length  nb_sepal_width  nb_petal_length  \\\n",
      "0      Iris-setosa               49              49               49   \n",
      "1  Iris-versicolor               50              50               50   \n",
      "2   Iris-virginica               50              50               50   \n",
      "\n",
      "   nb_petal_with  \n",
      "0             49  \n",
      "1             50  \n",
      "2             50  \n"
     ]
    }
   ],
   "source": [
    "# Utilisation du groupby\n",
    "df_grp = df.groupby([\"class\"]).agg(nb_sepal_length = (\"sepal_length\", \"count\"), nb_sepal_width = (\"sepal_width\", \"count\"), nb_petal_length = (\"petal_length\", \"count\"),nb_petal_with = (\"petal_width\", \"count\")).reset_index()\n",
    "print(df_grp)"
   ]
  },
  {
   "attachments": {},
   "cell_type": "markdown",
   "metadata": {},
   "source": [
    "# PARTIE FEATURE 1"
   ]
  },
  {
   "cell_type": "code",
   "execution_count": 9,
   "metadata": {},
   "outputs": [
    {
     "name": "stdout",
     "output_type": "stream",
     "text": [
      "    sepal_length  sepal_width  petal_length  petal_width        class\n",
      "0            4.9          3.0           1.4          0.2  Iris-setosa\n",
      "1            4.7          3.2           1.3          0.2  Iris-setosa\n",
      "2            4.6          3.1           1.5          0.2  Iris-setosa\n",
      "3            5.0          3.6           1.4          0.2  Iris-setosa\n",
      "4            5.4          3.9           1.7          0.4  Iris-setosa\n",
      "5            4.6          3.4           1.4          0.3  Iris-setosa\n",
      "6            5.0          3.4           1.5          0.2  Iris-setosa\n",
      "7            4.4          2.9           1.4          0.2  Iris-setosa\n",
      "8            4.9          3.1           1.5          0.1  Iris-setosa\n",
      "9            5.4          3.7           1.5          0.2  Iris-setosa\n",
      "10           4.8          3.4           1.6          0.2  Iris-setosa\n",
      "11           4.8          3.0           1.4          0.1  Iris-setosa\n",
      "12           4.3          3.0           1.1          0.1  Iris-setosa\n",
      "13           5.8          4.0           1.2          0.2  Iris-setosa\n",
      "14           5.7          4.4           1.5          0.4  Iris-setosa\n",
      "15           5.4          3.9           1.3          0.4  Iris-setosa\n",
      "16           5.1          3.5           1.4          0.3  Iris-setosa\n",
      "17           5.7          3.8           1.7          0.3  Iris-setosa\n",
      "18           5.1          3.8           1.5          0.3  Iris-setosa\n",
      "19           5.4          3.4           1.7          0.2  Iris-setosa\n",
      "20           5.1          3.7           1.5          0.4  Iris-setosa\n",
      "21           4.6          3.6           1.0          0.2  Iris-setosa\n",
      "22           5.1          3.3           1.7          0.5  Iris-setosa\n",
      "23           4.8          3.4           1.9          0.2  Iris-setosa\n",
      "24           5.0          3.0           1.6          0.2  Iris-setosa\n",
      "25           5.0          3.4           1.6          0.4  Iris-setosa\n",
      "26           5.2          3.5           1.5          0.2  Iris-setosa\n",
      "27           5.2          3.4           1.4          0.2  Iris-setosa\n",
      "28           4.7          3.2           1.6          0.2  Iris-setosa\n",
      "29           4.8          3.1           1.6          0.2  Iris-setosa\n",
      "30           5.4          3.4           1.5          0.4  Iris-setosa\n",
      "31           5.2          4.1           1.5          0.1  Iris-setosa\n",
      "32           5.5          4.2           1.4          0.2  Iris-setosa\n",
      "33           4.9          3.1           1.5          0.1  Iris-setosa\n",
      "34           5.0          3.2           1.2          0.2  Iris-setosa\n",
      "35           5.5          3.5           1.3          0.2  Iris-setosa\n",
      "36           4.9          3.1           1.5          0.1  Iris-setosa\n",
      "37           4.4          3.0           1.3          0.2  Iris-setosa\n",
      "38           5.1          3.4           1.5          0.2  Iris-setosa\n",
      "39           5.0          3.5           1.3          0.3  Iris-setosa\n",
      "40           4.5          2.3           1.3          0.3  Iris-setosa\n",
      "41           4.4          3.2           1.3          0.2  Iris-setosa\n",
      "42           5.0          3.5           1.6          0.6  Iris-setosa\n",
      "43           5.1          3.8           1.9          0.4  Iris-setosa\n",
      "44           4.8          3.0           1.4          0.3  Iris-setosa\n",
      "45           5.1          3.8           1.6          0.2  Iris-setosa\n",
      "46           4.6          3.2           1.4          0.2  Iris-setosa\n",
      "47           5.3          3.7           1.5          0.2  Iris-setosa\n",
      "48           5.0          3.3           1.4          0.2  Iris-setosa\n"
     ]
    }
   ],
   "source": [
    "# Filtrer sur la variable \"class\" pour les valeurs \"Iris-setosa\"\n",
    "df_filtre = df.loc[df[\"class\"] == \"Iris-setosa\"]\n",
    "\n",
    "# Afficher le DataFrame filtré\n",
    "print(df_filtre)"
   ]
  }
 ],
 "metadata": {
  "kernelspec": {
   "display_name": "base",
   "language": "python",
   "name": "python3"
  },
  "language_info": {
   "codemirror_mode": {
    "name": "ipython",
    "version": 3
   },
   "file_extension": ".py",
   "mimetype": "text/x-python",
   "name": "python",
   "nbconvert_exporter": "python",
   "pygments_lexer": "ipython3",
   "version": "3.9.13"
  },
  "orig_nbformat": 4
 },
 "nbformat": 4,
 "nbformat_minor": 2
}
